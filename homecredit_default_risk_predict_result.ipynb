{
 "cells": [
  {
   "cell_type": "code",
   "execution_count": 15,
   "id": "4af4bd31-e181-4e75-82e9-c2edb5536502",
   "metadata": {},
   "outputs": [],
   "source": [
    "import pandas as pd\n",
    "import matplotlib.pyplot as plt\n",
    "from sklearn.metrics import roc_curve, auc\n",
    "\n",
    "#Đọc file CSV từ BigQuery\n",
    "data = pd.read_csv(\"home_credit_default_risk/homecredit_default_risk_predict_result.csv\")\n",
    "\n",
    "\n",
    "\n",
    "# Lưu hình ảnh\n",
    "# plt.savefig(\"results/roc_curve.png\")"
   ]
  },
  {
   "cell_type": "code",
   "execution_count": 33,
   "id": "23f6896e-a78c-47db-a365-405d35874aa1",
   "metadata": {},
   "outputs": [],
   "source": [
    "#Đọc file CSV từ BigQuery\n",
    "data_2 = pd.read_csv(\"home_credit_default_risk/homecredit_default_risk_predict_result_0.5.csv\")"
   ]
  },
  {
   "cell_type": "code",
   "execution_count": 23,
   "id": "96434d7f-0dfb-4b08-a572-23b1022579cb",
   "metadata": {},
   "outputs": [
    {
     "ename": "KeyError",
     "evalue": "'predicted_TARGET_probs'",
     "output_type": "error",
     "traceback": [
      "\u001b[1;31m---------------------------------------------------------------------------\u001b[0m",
      "\u001b[1;31mKeyError\u001b[0m                                  Traceback (most recent call last)",
      "File \u001b[1;32mC:\\ProgramData\\anaconda3\\Lib\\site-packages\\pandas\\core\\indexes\\base.py:3805\u001b[0m, in \u001b[0;36mIndex.get_loc\u001b[1;34m(self, key)\u001b[0m\n\u001b[0;32m   3804\u001b[0m \u001b[38;5;28;01mtry\u001b[39;00m:\n\u001b[1;32m-> 3805\u001b[0m     \u001b[38;5;28;01mreturn\u001b[39;00m \u001b[38;5;28mself\u001b[39m\u001b[38;5;241m.\u001b[39m_engine\u001b[38;5;241m.\u001b[39mget_loc(casted_key)\n\u001b[0;32m   3806\u001b[0m \u001b[38;5;28;01mexcept\u001b[39;00m \u001b[38;5;167;01mKeyError\u001b[39;00m \u001b[38;5;28;01mas\u001b[39;00m err:\n",
      "File \u001b[1;32mindex.pyx:167\u001b[0m, in \u001b[0;36mpandas._libs.index.IndexEngine.get_loc\u001b[1;34m()\u001b[0m\n",
      "File \u001b[1;32mindex.pyx:196\u001b[0m, in \u001b[0;36mpandas._libs.index.IndexEngine.get_loc\u001b[1;34m()\u001b[0m\n",
      "File \u001b[1;32mpandas\\\\_libs\\\\hashtable_class_helper.pxi:7081\u001b[0m, in \u001b[0;36mpandas._libs.hashtable.PyObjectHashTable.get_item\u001b[1;34m()\u001b[0m\n",
      "File \u001b[1;32mpandas\\\\_libs\\\\hashtable_class_helper.pxi:7089\u001b[0m, in \u001b[0;36mpandas._libs.hashtable.PyObjectHashTable.get_item\u001b[1;34m()\u001b[0m\n",
      "\u001b[1;31mKeyError\u001b[0m: 'predicted_TARGET_probs'",
      "\nThe above exception was the direct cause of the following exception:\n",
      "\u001b[1;31mKeyError\u001b[0m                                  Traceback (most recent call last)",
      "Cell \u001b[1;32mIn[23], line 2\u001b[0m\n\u001b[0;32m      1\u001b[0m \u001b[38;5;66;03m# Chuyển đổi cột từ chuỗi JSON về danh sách\u001b[39;00m\n\u001b[1;32m----> 2\u001b[0m data[\u001b[38;5;124m\"\u001b[39m\u001b[38;5;124mpredicted_TARGET_probs\u001b[39m\u001b[38;5;124m\"\u001b[39m] \u001b[38;5;241m=\u001b[39m data[\u001b[38;5;124m\"\u001b[39m\u001b[38;5;124mpredicted_TARGET_probs\u001b[39m\u001b[38;5;124m\"\u001b[39m]\u001b[38;5;241m.\u001b[39mapply(\u001b[38;5;28;01mlambda\u001b[39;00m x: json\u001b[38;5;241m.\u001b[39mloads(x)[\u001b[38;5;124m\"\u001b[39m\u001b[38;5;124mpredicted_TARGET_probs\u001b[39m\u001b[38;5;124m\"\u001b[39m])\n\u001b[0;32m      4\u001b[0m \u001b[38;5;66;03m# Nếu cột trên chứa danh sách, chỉ lấy giá trị xác suất cho label = 1\u001b[39;00m\n\u001b[0;32m      5\u001b[0m data[\u001b[38;5;124m\"\u001b[39m\u001b[38;5;124mpredicted_probability\u001b[39m\u001b[38;5;124m\"\u001b[39m] \u001b[38;5;241m=\u001b[39m data[\u001b[38;5;124m\"\u001b[39m\u001b[38;5;124mpredicted_TARGET_probs\u001b[39m\u001b[38;5;124m\"\u001b[39m]\u001b[38;5;241m.\u001b[39mapply(\u001b[38;5;28;01mlambda\u001b[39;00m x: x[\u001b[38;5;241m1\u001b[39m][\u001b[38;5;124m\"\u001b[39m\u001b[38;5;124mprob\u001b[39m\u001b[38;5;124m\"\u001b[39m] \u001b[38;5;28;01mif\u001b[39;00m \u001b[38;5;28misinstance\u001b[39m(x, \u001b[38;5;28mlist\u001b[39m) \u001b[38;5;28;01melse\u001b[39;00m \u001b[38;5;28;01mNone\u001b[39;00m)\n",
      "File \u001b[1;32mC:\\ProgramData\\anaconda3\\Lib\\site-packages\\pandas\\core\\frame.py:4102\u001b[0m, in \u001b[0;36mDataFrame.__getitem__\u001b[1;34m(self, key)\u001b[0m\n\u001b[0;32m   4100\u001b[0m \u001b[38;5;28;01mif\u001b[39;00m \u001b[38;5;28mself\u001b[39m\u001b[38;5;241m.\u001b[39mcolumns\u001b[38;5;241m.\u001b[39mnlevels \u001b[38;5;241m>\u001b[39m \u001b[38;5;241m1\u001b[39m:\n\u001b[0;32m   4101\u001b[0m     \u001b[38;5;28;01mreturn\u001b[39;00m \u001b[38;5;28mself\u001b[39m\u001b[38;5;241m.\u001b[39m_getitem_multilevel(key)\n\u001b[1;32m-> 4102\u001b[0m indexer \u001b[38;5;241m=\u001b[39m \u001b[38;5;28mself\u001b[39m\u001b[38;5;241m.\u001b[39mcolumns\u001b[38;5;241m.\u001b[39mget_loc(key)\n\u001b[0;32m   4103\u001b[0m \u001b[38;5;28;01mif\u001b[39;00m is_integer(indexer):\n\u001b[0;32m   4104\u001b[0m     indexer \u001b[38;5;241m=\u001b[39m [indexer]\n",
      "File \u001b[1;32mC:\\ProgramData\\anaconda3\\Lib\\site-packages\\pandas\\core\\indexes\\base.py:3812\u001b[0m, in \u001b[0;36mIndex.get_loc\u001b[1;34m(self, key)\u001b[0m\n\u001b[0;32m   3807\u001b[0m     \u001b[38;5;28;01mif\u001b[39;00m \u001b[38;5;28misinstance\u001b[39m(casted_key, \u001b[38;5;28mslice\u001b[39m) \u001b[38;5;129;01mor\u001b[39;00m (\n\u001b[0;32m   3808\u001b[0m         \u001b[38;5;28misinstance\u001b[39m(casted_key, abc\u001b[38;5;241m.\u001b[39mIterable)\n\u001b[0;32m   3809\u001b[0m         \u001b[38;5;129;01mand\u001b[39;00m \u001b[38;5;28many\u001b[39m(\u001b[38;5;28misinstance\u001b[39m(x, \u001b[38;5;28mslice\u001b[39m) \u001b[38;5;28;01mfor\u001b[39;00m x \u001b[38;5;129;01min\u001b[39;00m casted_key)\n\u001b[0;32m   3810\u001b[0m     ):\n\u001b[0;32m   3811\u001b[0m         \u001b[38;5;28;01mraise\u001b[39;00m InvalidIndexError(key)\n\u001b[1;32m-> 3812\u001b[0m     \u001b[38;5;28;01mraise\u001b[39;00m \u001b[38;5;167;01mKeyError\u001b[39;00m(key) \u001b[38;5;28;01mfrom\u001b[39;00m \u001b[38;5;21;01merr\u001b[39;00m\n\u001b[0;32m   3813\u001b[0m \u001b[38;5;28;01mexcept\u001b[39;00m \u001b[38;5;167;01mTypeError\u001b[39;00m:\n\u001b[0;32m   3814\u001b[0m     \u001b[38;5;66;03m# If we have a listlike key, _check_indexing_error will raise\u001b[39;00m\n\u001b[0;32m   3815\u001b[0m     \u001b[38;5;66;03m#  InvalidIndexError. Otherwise we fall through and re-raise\u001b[39;00m\n\u001b[0;32m   3816\u001b[0m     \u001b[38;5;66;03m#  the TypeError.\u001b[39;00m\n\u001b[0;32m   3817\u001b[0m     \u001b[38;5;28mself\u001b[39m\u001b[38;5;241m.\u001b[39m_check_indexing_error(key)\n",
      "\u001b[1;31mKeyError\u001b[0m: 'predicted_TARGET_probs'"
     ]
    }
   ],
   "source": [
    "# Chuyển đổi cột từ chuỗi JSON về danh sách\n",
    "data[\"predicted_TARGET_probs\"] = data[\"predicted_TARGET_probs\"].apply(lambda x: json.loads(x)[\"predicted_TARGET_probs\"])\n",
    "\n",
    "# Nếu cột trên chứa danh sách, chỉ lấy giá trị xác suất cho label = 1\n",
    "data[\"predicted_probability\"] = data[\"predicted_TARGET_probs\"].apply(lambda x: x[1][\"prob\"] if isinstance(x, list) else None)\n",
    "\n",
    "# Xóa cột cũ\n",
    "data.drop(columns=[\"predicted_TARGET_probs\"], inplace=True)\n",
    "\n",
    "\n",
    "\n",
    "# Kiểm tra lại dữ liệu\n",
    "print(data.head())"
   ]
  },
  {
   "cell_type": "code",
   "execution_count": 35,
   "id": "89a691c3-a2d8-4d89-943e-45f4fafe71e7",
   "metadata": {},
   "outputs": [
    {
     "name": "stdout",
     "output_type": "stream",
     "text": [
      "   predicted_TARGET  NAME_CONTRACT_TYPE  CODE_GENDER  FLAG_OWN_CAR  \\\n",
      "0                 0                 NaN          NaN           NaN   \n",
      "1                 0                 NaN          NaN           NaN   \n",
      "2                 0                 NaN          NaN           NaN   \n",
      "3                 0                 NaN          NaN           NaN   \n",
      "4                 0                 NaN          NaN           NaN   \n",
      "\n",
      "   NAME_TYPE_SUITE  NAME_INCOME_TYPE  NAME_EDUCATION_TYPE  NAME_FAMILY_STATUS  \\\n",
      "0              NaN               NaN                  NaN                 NaN   \n",
      "1              NaN               NaN                  NaN                 NaN   \n",
      "2              NaN               NaN                  NaN                 NaN   \n",
      "3              NaN               NaN                  NaN                 NaN   \n",
      "4              NaN               NaN                  NaN                 NaN   \n",
      "\n",
      "   NAME_HOUSING_TYPE  WEEKDAY_APPR_PROCESS_START  ...  DAYS_REGISTRATION  \\\n",
      "0                NaN                         NaN  ...            -9755.0   \n",
      "1                NaN                         NaN  ...            -2875.0   \n",
      "2                NaN                         NaN  ...            -1891.0   \n",
      "3                NaN                         NaN  ...            -4670.0   \n",
      "4                NaN                         NaN  ...             -283.0   \n",
      "\n",
      "   DAYS_ID_PUBLISH  EXT_SOURCE_2  EXT_SOURCE_3  DAYS_LAST_PHONE_CHANGE  \\\n",
      "0            -2787      0.712880           NaN                    -4.0   \n",
      "1             -806      0.649168           NaN                  -538.0   \n",
      "2            -2383      0.064450           NaN                  -478.0   \n",
      "3            -4668      0.510885           NaN                 -1788.0   \n",
      "4            -1285      0.202384           NaN                  -918.0   \n",
      "\n",
      "   AMT_CREDIT_SUM_DEBT_sum  DAYS_DECISION_mean  DAYS_CREDIT_max  \\\n",
      "0                      NaN        -1854.333333              NaN   \n",
      "1                      NaN         -322.750000              NaN   \n",
      "2                      NaN         -478.000000              NaN   \n",
      "3                      NaN        -1164.000000              NaN   \n",
      "4                      NaN         -918.000000              NaN   \n",
      "\n",
      "   DAYS_ENDDATE_FACT_max  predicted_probability  \n",
      "0                    NaN               0.865829  \n",
      "1                    NaN               0.832770  \n",
      "2                    NaN               0.824294  \n",
      "3                    NaN               0.846651  \n",
      "4                    NaN               0.828817  \n",
      "\n",
      "[5 rows x 35 columns]\n"
     ]
    }
   ],
   "source": [
    "# Chuyển đổi cột từ chuỗi JSON về danh sách\n",
    "data_2[\"predicted_TARGET_probs\"] = data_2[\"predicted_TARGET_probs\"].apply(lambda x: json.loads(x)[\"predicted_TARGET_probs\"])\n",
    "\n",
    "# Nếu cột trên chứa danh sách, chỉ lấy giá trị xác suất cho label = 1\n",
    "data_2[\"predicted_probability\"] = data_2[\"predicted_TARGET_probs\"].apply(lambda x: x[1][\"prob\"] if isinstance(x, list) else None)\n",
    "\n",
    "# Xóa cột cũ\n",
    "data_2.drop(columns=[\"predicted_TARGET_probs\"], inplace=True)\n",
    "\n",
    "\n",
    "\n",
    "# Kiểm tra lại dữ liệu\n",
    "print(data.head())"
   ]
  },
  {
   "cell_type": "code",
   "execution_count": 25,
   "id": "047a0c69-713e-48aa-8e50-8570609ed639",
   "metadata": {},
   "outputs": [],
   "source": [
    "# Chuyển cột \"predicted_probability\" về float\n",
    "data[\"predicted_probability\"] = data[\"predicted_probability\"].astype(float)"
   ]
  },
  {
   "cell_type": "code",
   "execution_count": 37,
   "id": "eae2ff88-e365-4955-a416-36eb78ac0af8",
   "metadata": {},
   "outputs": [],
   "source": [
    "# Chuyển cột \"predicted_probability\" về float\n",
    "data_2[\"predicted_probability\"] = data_2[\"predicted_probability\"].astype(float)"
   ]
  },
  {
   "cell_type": "code",
   "execution_count": 41,
   "id": "a8608248-d9d3-4634-9c42-4babe5df528f",
   "metadata": {},
   "outputs": [
    {
     "data": {
      "text/html": [
       "<div>\n",
       "<style scoped>\n",
       "    .dataframe tbody tr th:only-of-type {\n",
       "        vertical-align: middle;\n",
       "    }\n",
       "\n",
       "    .dataframe tbody tr th {\n",
       "        vertical-align: top;\n",
       "    }\n",
       "\n",
       "    .dataframe thead th {\n",
       "        text-align: right;\n",
       "    }\n",
       "</style>\n",
       "<table border=\"1\" class=\"dataframe\">\n",
       "  <thead>\n",
       "    <tr style=\"text-align: right;\">\n",
       "      <th></th>\n",
       "      <th>predicted_TARGET</th>\n",
       "      <th>NAME_CONTRACT_TYPE</th>\n",
       "      <th>CODE_GENDER</th>\n",
       "      <th>FLAG_OWN_CAR</th>\n",
       "      <th>NAME_TYPE_SUITE</th>\n",
       "      <th>NAME_INCOME_TYPE</th>\n",
       "      <th>NAME_EDUCATION_TYPE</th>\n",
       "      <th>NAME_FAMILY_STATUS</th>\n",
       "      <th>NAME_HOUSING_TYPE</th>\n",
       "      <th>WEEKDAY_APPR_PROCESS_START</th>\n",
       "      <th>...</th>\n",
       "      <th>DAYS_ID_PUBLISH</th>\n",
       "      <th>EXT_SOURCE_2</th>\n",
       "      <th>EXT_SOURCE_3</th>\n",
       "      <th>DAYS_LAST_PHONE_CHANGE</th>\n",
       "      <th>AMT_CREDIT_SUM_DEBT_sum</th>\n",
       "      <th>DAYS_DECISION_mean</th>\n",
       "      <th>DAYS_CREDIT_max</th>\n",
       "      <th>DAYS_ENDDATE_FACT_max</th>\n",
       "      <th>predicted_probability</th>\n",
       "      <th>predicted_TARGET_05</th>\n",
       "    </tr>\n",
       "  </thead>\n",
       "  <tbody>\n",
       "    <tr>\n",
       "      <th>0</th>\n",
       "      <td>0</td>\n",
       "      <td>NaN</td>\n",
       "      <td>NaN</td>\n",
       "      <td>NaN</td>\n",
       "      <td>NaN</td>\n",
       "      <td>NaN</td>\n",
       "      <td>NaN</td>\n",
       "      <td>NaN</td>\n",
       "      <td>NaN</td>\n",
       "      <td>NaN</td>\n",
       "      <td>...</td>\n",
       "      <td>-2787</td>\n",
       "      <td>0.712880</td>\n",
       "      <td>NaN</td>\n",
       "      <td>-4.0</td>\n",
       "      <td>NaN</td>\n",
       "      <td>-1854.333333</td>\n",
       "      <td>NaN</td>\n",
       "      <td>NaN</td>\n",
       "      <td>0.865829</td>\n",
       "      <td>0</td>\n",
       "    </tr>\n",
       "    <tr>\n",
       "      <th>1</th>\n",
       "      <td>0</td>\n",
       "      <td>NaN</td>\n",
       "      <td>NaN</td>\n",
       "      <td>NaN</td>\n",
       "      <td>NaN</td>\n",
       "      <td>NaN</td>\n",
       "      <td>NaN</td>\n",
       "      <td>NaN</td>\n",
       "      <td>NaN</td>\n",
       "      <td>NaN</td>\n",
       "      <td>...</td>\n",
       "      <td>-806</td>\n",
       "      <td>0.649168</td>\n",
       "      <td>NaN</td>\n",
       "      <td>-538.0</td>\n",
       "      <td>NaN</td>\n",
       "      <td>-322.750000</td>\n",
       "      <td>NaN</td>\n",
       "      <td>NaN</td>\n",
       "      <td>0.832770</td>\n",
       "      <td>0</td>\n",
       "    </tr>\n",
       "    <tr>\n",
       "      <th>2</th>\n",
       "      <td>0</td>\n",
       "      <td>NaN</td>\n",
       "      <td>NaN</td>\n",
       "      <td>NaN</td>\n",
       "      <td>NaN</td>\n",
       "      <td>NaN</td>\n",
       "      <td>NaN</td>\n",
       "      <td>NaN</td>\n",
       "      <td>NaN</td>\n",
       "      <td>NaN</td>\n",
       "      <td>...</td>\n",
       "      <td>-2383</td>\n",
       "      <td>0.064450</td>\n",
       "      <td>NaN</td>\n",
       "      <td>-478.0</td>\n",
       "      <td>NaN</td>\n",
       "      <td>-478.000000</td>\n",
       "      <td>NaN</td>\n",
       "      <td>NaN</td>\n",
       "      <td>0.824294</td>\n",
       "      <td>0</td>\n",
       "    </tr>\n",
       "    <tr>\n",
       "      <th>3</th>\n",
       "      <td>0</td>\n",
       "      <td>NaN</td>\n",
       "      <td>NaN</td>\n",
       "      <td>NaN</td>\n",
       "      <td>NaN</td>\n",
       "      <td>NaN</td>\n",
       "      <td>NaN</td>\n",
       "      <td>NaN</td>\n",
       "      <td>NaN</td>\n",
       "      <td>NaN</td>\n",
       "      <td>...</td>\n",
       "      <td>-4668</td>\n",
       "      <td>0.510885</td>\n",
       "      <td>NaN</td>\n",
       "      <td>-1788.0</td>\n",
       "      <td>NaN</td>\n",
       "      <td>-1164.000000</td>\n",
       "      <td>NaN</td>\n",
       "      <td>NaN</td>\n",
       "      <td>0.846651</td>\n",
       "      <td>0</td>\n",
       "    </tr>\n",
       "    <tr>\n",
       "      <th>4</th>\n",
       "      <td>0</td>\n",
       "      <td>NaN</td>\n",
       "      <td>NaN</td>\n",
       "      <td>NaN</td>\n",
       "      <td>NaN</td>\n",
       "      <td>NaN</td>\n",
       "      <td>NaN</td>\n",
       "      <td>NaN</td>\n",
       "      <td>NaN</td>\n",
       "      <td>NaN</td>\n",
       "      <td>...</td>\n",
       "      <td>-1285</td>\n",
       "      <td>0.202384</td>\n",
       "      <td>NaN</td>\n",
       "      <td>-918.0</td>\n",
       "      <td>NaN</td>\n",
       "      <td>-918.000000</td>\n",
       "      <td>NaN</td>\n",
       "      <td>NaN</td>\n",
       "      <td>0.828817</td>\n",
       "      <td>0</td>\n",
       "    </tr>\n",
       "  </tbody>\n",
       "</table>\n",
       "<p>5 rows × 36 columns</p>\n",
       "</div>"
      ],
      "text/plain": [
       "   predicted_TARGET  NAME_CONTRACT_TYPE  CODE_GENDER  FLAG_OWN_CAR  \\\n",
       "0                 0                 NaN          NaN           NaN   \n",
       "1                 0                 NaN          NaN           NaN   \n",
       "2                 0                 NaN          NaN           NaN   \n",
       "3                 0                 NaN          NaN           NaN   \n",
       "4                 0                 NaN          NaN           NaN   \n",
       "\n",
       "   NAME_TYPE_SUITE  NAME_INCOME_TYPE  NAME_EDUCATION_TYPE  NAME_FAMILY_STATUS  \\\n",
       "0              NaN               NaN                  NaN                 NaN   \n",
       "1              NaN               NaN                  NaN                 NaN   \n",
       "2              NaN               NaN                  NaN                 NaN   \n",
       "3              NaN               NaN                  NaN                 NaN   \n",
       "4              NaN               NaN                  NaN                 NaN   \n",
       "\n",
       "   NAME_HOUSING_TYPE  WEEKDAY_APPR_PROCESS_START  ...  DAYS_ID_PUBLISH  \\\n",
       "0                NaN                         NaN  ...            -2787   \n",
       "1                NaN                         NaN  ...             -806   \n",
       "2                NaN                         NaN  ...            -2383   \n",
       "3                NaN                         NaN  ...            -4668   \n",
       "4                NaN                         NaN  ...            -1285   \n",
       "\n",
       "   EXT_SOURCE_2  EXT_SOURCE_3  DAYS_LAST_PHONE_CHANGE  \\\n",
       "0      0.712880           NaN                    -4.0   \n",
       "1      0.649168           NaN                  -538.0   \n",
       "2      0.064450           NaN                  -478.0   \n",
       "3      0.510885           NaN                 -1788.0   \n",
       "4      0.202384           NaN                  -918.0   \n",
       "\n",
       "   AMT_CREDIT_SUM_DEBT_sum  DAYS_DECISION_mean  DAYS_CREDIT_max  \\\n",
       "0                      NaN        -1854.333333              NaN   \n",
       "1                      NaN         -322.750000              NaN   \n",
       "2                      NaN         -478.000000              NaN   \n",
       "3                      NaN        -1164.000000              NaN   \n",
       "4                      NaN         -918.000000              NaN   \n",
       "\n",
       "   DAYS_ENDDATE_FACT_max  predicted_probability  predicted_TARGET_05  \n",
       "0                    NaN               0.865829                    0  \n",
       "1                    NaN               0.832770                    0  \n",
       "2                    NaN               0.824294                    0  \n",
       "3                    NaN               0.846651                    0  \n",
       "4                    NaN               0.828817                    0  \n",
       "\n",
       "[5 rows x 36 columns]"
      ]
     },
     "execution_count": 41,
     "metadata": {},
     "output_type": "execute_result"
    }
   ],
   "source": [
    "data_2.head()"
   ]
  },
  {
   "cell_type": "code",
   "execution_count": 27,
   "id": "8e6ab961-56f3-43ae-97a1-aaaa1367500b",
   "metadata": {},
   "outputs": [
    {
     "data": {
      "image/png": "[encoded data removed]",
      "text/plain": [
       "<Figure size 800x600 with 1 Axes>"
      ]
     },
     "metadata": {},
     "output_type": "display_data"
    }
   ],
   "source": [
    "#Tạo ROC curve\n",
    "fpr, tpr, _ = roc_curve(data[\"predicted_TARGET\"], data[\"predicted_probability\"])\n",
    "roc_auc = auc(fpr, tpr)\n",
    "\n",
    "#Vẽ biểu đồ\n",
    "plt.figure(figsize=(8,6))\n",
    "plt.plot(fpr, tpr, label=f'ROC curve (area = {roc_auc:.2f})')\n",
    "plt.plot([0, 1], [0, 1], 'k--')  # Đường baseline\n",
    "plt.xlabel(\"False Positive Rate\")\n",
    "plt.ylabel(\"True Positive Rate\")\n",
    "plt.title(\"ROC Curve\")\n",
    "plt.legend()\n",
    "plt.show()"
   ]
  },
  {
   "cell_type": "code",
   "execution_count": 43,
   "id": "2c20e924-d2c9-4199-8e78-62c2796fd300",
   "metadata": {},
   "outputs": [
    {
     "data": {
      "image/png": "[encoded data removed]",
      "text/plain": [
       "<Figure size 800x600 with 1 Axes>"
      ]
     },
     "metadata": {},
     "output_type": "display_data"
    }
   ],
   "source": [
    "#Tạo ROC curve\n",
    "fpr, tpr, _ = roc_curve(data_2[\"predicted_TARGET_05\"], data_2[\"predicted_probability\"])\n",
    "roc_auc = auc(fpr, tpr)\n",
    "\n",
    "#Vẽ biểu đồ\n",
    "plt.figure(figsize=(8,6))\n",
    "plt.plot(fpr, tpr, label=f'ROC curve (area = {roc_auc:.2f})')\n",
    "plt.plot([0, 1], [0, 1], 'k--')  # Đường baseline\n",
    "plt.xlabel(\"False Positive Rate\")\n",
    "plt.ylabel(\"True Positive Rate\")\n",
    "plt.title(\"ROC Curve\")\n",
    "plt.legend()\n",
    "plt.show()"
   ]
  },
  {
   "cell_type": "code",
   "execution_count": 31,
   "id": "d8a7e2a4-939d-4766-8035-8d15f51f4806",
   "metadata": {},
   "outputs": [
    {
     "name": "stdout",
     "output_type": "stream",
     "text": [
      "Threshold: inf, False Positive Rate: 0.000, True Positive Rate: 0.000\n",
      "Threshold: 0.872, False Positive Rate: 0.000, True Positive Rate: 0.000\n",
      "Threshold: 0.872, False Positive Rate: 0.000, True Positive Rate: 0.000\n",
      "Threshold: 0.872, False Positive Rate: 0.000, True Positive Rate: 0.000\n",
      "Threshold: 0.872, False Positive Rate: 0.001, True Positive Rate: 0.000\n",
      "Threshold: 0.872, False Positive Rate: 0.001, True Positive Rate: 0.000\n",
      "Threshold: 0.872, False Positive Rate: 0.001, True Positive Rate: 0.000\n",
      "Threshold: 0.872, False Positive Rate: 0.001, True Positive Rate: 0.000\n",
      "Threshold: 0.872, False Positive Rate: 0.002, True Positive Rate: 0.000\n",
      "Threshold: 0.872, False Positive Rate: 0.002, True Positive Rate: 0.000\n"
     ]
    }
   ],
   "source": [
    "fpr, tpr, thresholds = roc_curve(data[\"predicted_TARGET\"], data[\"predicted_probability\"])\n",
    "\n",
    "for t, fp, tp in zip(thresholds[:10], fpr[:10], tpr[:10]):\n",
    "    print(f\"Threshold: {t:.3f}, False Positive Rate: {fp:.3f}, True Positive Rate: {tp:.3f}\")"
   ]
  },
  {
   "cell_type": "code",
   "execution_count": 53,
   "id": "4898185d-11d6-4be5-b3ad-0171e1c42de9",
   "metadata": {},
   "outputs": [
    {
     "name": "stdout",
     "output_type": "stream",
     "text": [
      "Threshold: inf, False Positive Rate: 0.000, True Positive Rate: 0.000\n",
      "Threshold: 0.872, False Positive Rate: 0.000, True Positive Rate: 0.000\n",
      "Threshold: 0.872, False Positive Rate: 0.000, True Positive Rate: 0.000\n",
      "Threshold: 0.872, False Positive Rate: 0.001, True Positive Rate: 0.000\n",
      "Threshold: 0.872, False Positive Rate: 0.001, True Positive Rate: 0.000\n",
      "Threshold: 0.872, False Positive Rate: 0.001, True Positive Rate: 0.000\n",
      "Threshold: 0.872, False Positive Rate: 0.001, True Positive Rate: 0.000\n",
      "Threshold: 0.872, False Positive Rate: 0.001, True Positive Rate: 0.000\n",
      "Threshold: 0.872, False Positive Rate: 0.002, True Positive Rate: 0.000\n",
      "Threshold: 0.872, False Positive Rate: 0.002, True Positive Rate: 0.000\n"
     ]
    }
   ],
   "source": [
    "fpr, tpr, thresholds = roc_curve(data_2[\"predicted_TARGET_05\"], data_2[\"predicted_probability\"])\n",
    "\n",
    "for t, fp, tp in zip(thresholds[:10], fpr[:10], tpr[:10]):\n",
    "    print(f\"Threshold: {t:.3f}, False Positive Rate: {fp:.3f}, True Positive Rate: {tp:.3f}\")"
   ]
  },
  {
   "cell_type": "code",
   "execution_count": 49,
   "id": "ce617a20-97e5-464e-b54c-24b78e6bb93e",
   "metadata": {},
   "outputs": [
    {
     "name": "stdout",
     "output_type": "stream",
     "text": [
      "predicted_TARGET_05\n",
      "0    22783\n",
      "1       17\n",
      "Name: count, dtype: int64\n"
     ]
    }
   ],
   "source": [
    "print(data_2[\"predicted_TARGET_05\"].value_counts())"
   ]
  },
  {
   "cell_type": "code",
   "execution_count": 51,
   "id": "46ec69d5-8bea-43c8-98ce-a240d56edcbe",
   "metadata": {},
   "outputs": [
    {
     "name": "stdout",
     "output_type": "stream",
     "text": [
      "predicted_TARGET\n",
      "0    24277\n",
      "1       19\n",
      "Name: count, dtype: int64\n"
     ]
    }
   ],
   "source": [
    "print(data[\"predicted_TARGET\"].value_counts())"
   ]
  },
  {
   "cell_type": "code",
   "execution_count": null,
   "id": "981346dd-9171-40a1-ad33-56caa1d07a63",
   "metadata": {},
   "outputs": [],
   "source": []
  }
 ],
 "metadata": {
  "kernelspec": {
   "display_name": "Python (myenv)",
   "language": "python",
   "name": "myenv"
  },
  "language_info": {
   "codemirror_mode": {
    "name": "ipython",
    "version": 3
   },
   "file_extension": ".py",
   "mimetype": "text/x-python",
   "name": "python",
   "nbconvert_exporter": "python",
   "pygments_lexer": "ipython3",
   "version": "3.12.7"
  }
 },
 "nbformat": 4,
 "nbformat_minor": 5
}
